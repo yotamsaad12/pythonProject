{
 "cells": [
  {
   "cell_type": "markdown",
   "id": "a68c618b",
   "metadata": {},
   "source": [
    "חלק א': הכנת הנתונים והבנת הנתונים של טבלת המכירות"
   ]
  },
  {
   "cell_type": "markdown",
   "id": "93893fbe",
   "metadata": {},
   "source": [
    "ייבוא וארגון הדאטה בפייתון"
   ]
  },
  {
   "cell_type": "markdown",
   "id": "1d845ebd",
   "metadata": {},
   "source": [
    "1.import the csv files "
   ]
  },
  {
   "cell_type": "code",
   "execution_count": 373,
   "id": "ca7a893b",
   "metadata": {},
   "outputs": [],
   "source": [
    "import pandas as pd\n",
    "import calendar\n",
    "\n",
    "# Paths to your CSV files\n",
    "file1 = './Products.csv'\n",
    "file2 = './Transactions.csv'"
   ]
  },
  {
   "cell_type": "markdown",
   "id": "f7e6acc8",
   "metadata": {},
   "source": [
    "2.read the csv"
   ]
  },
  {
   "cell_type": "code",
   "execution_count": 374,
   "id": "eb62eca5",
   "metadata": {},
   "outputs": [],
   "source": [
    "# Read the CSV files\n",
    "Products = pd.read_csv(file1)\n",
    "Transactions = pd.read_csv(file2)"
   ]
  },
  {
   "cell_type": "markdown",
   "id": "c1560666",
   "metadata": {},
   "source": [
    "הבנת מבנה הנתונים:\n"
   ]
  },
  {
   "cell_type": "markdown",
   "id": "6651c038",
   "metadata": {},
   "source": [
    "1.txt תשובה על סעיף 1 בקובץ\n",
    "2.txt תשובה על סעיף 2 בקובץ\n",
    "3.txt תשובה על סעיף 3 בקובץ"
   ]
  },
  {
   "cell_type": "markdown",
   "id": "1bd90c11",
   "metadata": {},
   "source": [
    "איחוד הטבלאות:\n"
   ]
  },
  {
   "cell_type": "markdown",
   "id": "d676a645",
   "metadata": {},
   "source": [
    "1.Merge tables using the Product field\n"
   ]
  },
  {
   "cell_type": "code",
   "execution_count": 375,
   "id": "e87368d4",
   "metadata": {},
   "outputs": [],
   "source": [
    "\n",
    "# Merge tables using the Product field\n",
    "df_transactions = pd.DataFrame(Transactions)\n",
    "df_Products = pd.DataFrame(Products)\n",
    "df_transactions.columns = df_transactions.columns.str.strip()\n",
    "df_Products.columns = df_Products.columns.str.strip()\n",
    "enriched_data = pd.merge(df_transactions, df_Products, on=\"Product\", how=\"left\")\n",
    "df = pd.DataFrame(enriched_data)\n",
    "output_filename = \"enriched_data.csv\"\n",
    "df.to_csv(output_filename, index=False)"
   ]
  },
  {
   "cell_type": "markdown",
   "id": "45a25268",
   "metadata": {},
   "source": [
    "2.Split the 'Segement_Country' column into 'Segment' and 'Country' and drop the old column"
   ]
  },
  {
   "cell_type": "code",
   "execution_count": 376,
   "id": "ae4c9221",
   "metadata": {},
   "outputs": [],
   "source": [
    "# Split the 'Segement_Country' column into 'Segment' and 'Country'\n",
    "df[['Segment', 'Country']] = df['Segement_Country'].str.split('-', expand=True)\n",
    "# Drop the original 'Segement_Country' column if it's no longer needed\n",
    "df = df.drop(columns=['Segement_Country'])\n",
    "output_filename = \"drop_Segement_Country.csv\"\n",
    "df.to_csv(output_filename, index=False)"
   ]
  },
  {
   "cell_type": "markdown",
   "id": "67618a9f",
   "metadata": {},
   "source": [
    "בדיקת תקינות:\n"
   ]
  },
  {
   "cell_type": "markdown",
   "id": "9b88cae1",
   "metadata": {},
   "source": [
    "1,2.checking if the merge was ok"
   ]
  },
  {
   "cell_type": "code",
   "execution_count": 377,
   "id": "c4dd4832",
   "metadata": {},
   "outputs": [
    {
     "name": "stdout",
     "output_type": "stream",
     "text": [
      "Warning: 0 products in transactions were not found in products.\n",
      "Total missing values after merge: 53\n"
     ]
    }
   ],
   "source": [
    "def validate_merge(df_transactions, df_products, merged_df, key_column=\"Product\"):\n",
    "    # Check if all products in df_transactions exist in df_products\n",
    "    missing_products = df_transactions[~df_transactions[key_column].isin(df_products[key_column])][key_column].unique()\n",
    "    \n",
    "    # Check for any rows where the merge resulted in missing values\n",
    "    missing_values = merged_df.isnull().sum().sum()  # Count total missing values\n",
    "    \n",
    "    # Print or return results\n",
    "    if len(missing_products) == 0 and missing_values == 0:\n",
    "        print(\"Merge successful! No data was lost.\")\n",
    "        return True\n",
    "    else:\n",
    "        print(f\"Warning: {len(missing_products)} products in transactions were not found in products.\")\n",
    "        if len(missing_products) > 0:\n",
    "            print(\"Missing Products:\", missing_products)\n",
    "        print(f\"Total missing values after merge: {missing_values}\")\n",
    "        return False\n",
    "\n",
    "# Usage\n",
    "is_merge_valid = validate_merge(df_transactions, df_Products, enriched_data)"
   ]
  },
  {
   "cell_type": "code",
   "execution_count": 378,
   "id": "c879747c",
   "metadata": {},
   "outputs": [
    {
     "name": "stdout",
     "output_type": "stream",
     "text": [
      "Product                 0\n",
      "Discount Band          53\n",
      "Units Sold              0\n",
      "Sale Price              0\n",
      "Gross Sales             0\n",
      "Discounts               0\n",
      "Sales                   0\n",
      "COGS                    0\n",
      "Profit                  0\n",
      "Date                    0\n",
      "Month Number            0\n",
      "ProductID               0\n",
      "Category                0\n",
      "Manufacturing Price     0\n",
      "Segment                 0\n",
      "Country                 0\n",
      "dtype: int64\n",
      "Rows in Products DataFrame: 6\n",
      "Rows in Transactions DataFrame: 700\n",
      "Rows in Enriched Data: 700\n",
      "Index(['Product', 'Discount Band', 'Units Sold', 'Sale Price', 'Gross Sales',\n",
      "       'Discounts', 'Sales', 'COGS', 'Profit', 'Date', 'Month Number',\n",
      "       'ProductID', 'Category', 'Manufacturing Price', 'Segment', 'Country'],\n",
      "      dtype='object')\n",
      "Product\n",
      "Paseo        202\n",
      "Velo         109\n",
      "VTT          109\n",
      "Amarilla      94\n",
      "Carretera     93\n",
      "Montana       93\n",
      "Name: count, dtype: int64\n"
     ]
    }
   ],
   "source": [
    "#Check if no data missing after mergin\n",
    "print(df.isnull().sum())  # Check for nulls in any column\n",
    "print(f\"Rows in Products DataFrame: {Products.shape[0]}\")\n",
    "print(f\"Rows in Transactions DataFrame: {Transactions.shape[0]}\")\n",
    "print(f\"Rows in Enriched Data: {df.shape[0]}\")\n",
    "print(df.columns)\n",
    "print(df['Product'].value_counts())"
   ]
  },
  {
   "cell_type": "markdown",
   "id": "9285a2f3",
   "metadata": {},
   "source": [
    "4.txt תשובה לשאלה 3 בקובץ"
   ]
  },
  {
   "cell_type": "markdown",
   "id": "8e2df680",
   "metadata": {},
   "source": [
    "טיפול בנתונים : \n"
   ]
  },
  {
   "cell_type": "markdown",
   "id": "e88a832e",
   "metadata": {},
   "source": [
    "נתונים כספיים\n"
   ]
  },
  {
   "cell_type": "markdown",
   "id": "49f7a5c8",
   "metadata": {},
   "source": [
    "1.deal with the format of the  financial details"
   ]
  },
  {
   "cell_type": "code",
   "execution_count": 379,
   "id": "08ad08f0",
   "metadata": {
    "lines_to_next_cell": 1
   },
   "outputs": [],
   "source": [
    "\n",
    "# Define a function to clean the financial fields\n",
    "def clean_financial_field(value):\n",
    "    if isinstance(value, (int, float)):  # If already a number, return it as is\n",
    "        return value\n",
    "    # Remove non-numeric characters (e.g., $, commas, extra dots)\n",
    "    clean_value = (\n",
    "        value.replace(\"$\", \"\")\n",
    "             .replace(\",\", \"\")\n",
    "             .replace(\".\", \"\", value.count(\".\") - 1)  # Handle decimal points correctly\n",
    "    )\n",
    "    try:\n",
    "        return float(clean_value)  # Convert to a float for analysis\n",
    "    except ValueError:\n",
    "        return None  # Return None for non-convertible values\n",
    "    \n",
    "# Identify the financial fields that need cleanup\n",
    "financial_fields = [\"Sale Price\", \"Gross Sales\", \"Discounts\", \"Sales\", \"COGS\", \"Profit\",\"Manufacturing Price\"]\n",
    "\n",
    "# Apply the cleaning function to each field\n",
    "for field in financial_fields:\n",
    "    df[field] = df[field].apply(clean_financial_field)\n",
    "    \n",
    "output_filename = \"financial_fields.csv\"\n",
    "df.to_csv(output_filename, index=False) "
   ]
  },
  {
   "cell_type": "markdown",
   "id": "b109c647",
   "metadata": {},
   "source": [
    "5.txt תשובה לשאלה 2 בקובץ"
   ]
  },
  {
   "cell_type": "markdown",
   "id": "29869982",
   "metadata": {},
   "source": [
    "עמודת _Segment_Country:\n"
   ]
  },
  {
   "cell_type": "markdown",
   "id": "891051d9",
   "metadata": {},
   "source": [
    "טיפול בנתוני התאריך\n"
   ]
  },
  {
   "cell_type": "markdown",
   "id": "3a62a028",
   "metadata": {},
   "source": [
    "העמודה תאריך בטבלה זו מייצגת את העסקה או את תאריך המכירה שבו התרחשה מכירה מסוימת. הוא מתעד את היום, החודש והשנה המדויקים של המכירה."
   ]
  },
  {
   "cell_type": "markdown",
   "id": "22e9ee2a",
   "metadata": {},
   "source": [
    "2,3.Format Date Column and after it formated i create two more columns ,month_name,and year.\n",
    "also i print the wrong/unusual dates"
   ]
  },
  {
   "cell_type": "code",
   "execution_count": 380,
   "id": "6b5e55b6",
   "metadata": {
    "lines_to_next_cell": 1
   },
   "outputs": [],
   "source": [
    "\n",
    "# Format Date Column\n",
    "def validate_and_fix_date(row):\n",
    "    try:\n",
    "        # Parse the existing date\n",
    "        date = pd.to_datetime(row['Date'], format='%m/%d/%Y', errors='coerce')\n",
    "        \n",
    "        # Check if the date's month matches the Month Number column\n",
    "        if date and date.month != row['Month Number']:\n",
    "            print(date.month , row['Month Number'])\n",
    "            # Correct the date by aligning it with the Month Number column\n",
    "            corrected_date = pd.Timestamp(year=date.year, month=row['Month Number'], day=1)\n",
    "        else:\n",
    "            corrected_date = date\n",
    "    except:\n",
    "        # Handle invalid or unusual dates\n",
    "        print(row['Date'])\n",
    "        \n",
    "\n",
    "    return corrected_date\n",
    "\n",
    "# Identify unusual or missing dates\n",
    "df['Date'] = df.apply(validate_and_fix_date, axis=1)\n",
    "\n",
    "# Format the Corrected Date into a single consistent format\n",
    "df['Date'] = df['Date'].dt.strftime('%d-%m-%Y')\n",
    "df['Date'] = pd.to_datetime(df['Date'])\n",
    "df['Year']=df['Date'].dt.year\n",
    "\n",
    "df[\"Month Name\"] = df[\"Month Number\"].apply(lambda x: calendar.month_name[x])\n",
    "# df[\"Year\"] = df[\"Date\"].dt.year\n",
    "\n",
    "output_filename = \"add_year_month.csv\"\n",
    "df.to_csv(output_filename, index=False) "
   ]
  },
  {
   "cell_type": "markdown",
   "id": "587fe0b0",
   "metadata": {},
   "source": [
    "6.txt תשובה לשלאלה 4 בקובץ"
   ]
  },
  {
   "cell_type": "markdown",
   "id": "680274ed",
   "metadata": {},
   "source": [
    "יצירת עמודות מחושבות"
   ]
  },
  {
   "cell_type": "markdown",
   "id": "8d2d385c",
   "metadata": {},
   "source": [
    "1.add to df two columns : Discount Impact,Profit Margin"
   ]
  },
  {
   "cell_type": "code",
   "execution_count": 381,
   "id": "54fbda31",
   "metadata": {},
   "outputs": [],
   "source": [
    "#create new Discount Impact column\n",
    "df['Discount Impact'] = df['Discounts'] / df['Sales']\n",
    "df['Profit Margin'] = (df['Profit'] / df['Sales']) * 100\n",
    "output_filename = \"create_two_new_columns.csv\"\n",
    "df.to_csv(output_filename, index=False)"
   ]
  },
  {
   "cell_type": "markdown",
   "id": "9780b316",
   "metadata": {},
   "source": [
    "2.create 3 metrics base on the data, the explanation about the metrics is on 7.txt file"
   ]
  },
  {
   "cell_type": "code",
   "execution_count": 382,
   "id": "f37f420c",
   "metadata": {},
   "outputs": [],
   "source": [
    "# Metric 1: Revenue Contribution\n",
    "df['Revenue Contribution (%)'] = (df['Gross Sales'] / df['Gross Sales'].sum()) * 100\n",
    "# Metric 2: Discount Effectiveness\n",
    "# Avoid dividing by zero for entries with no discounts\n",
    "df['Discount Effectiveness'] = df.apply(\n",
    "    lambda row: row['Profit'] / row['Discounts'] if row['Discounts'] != 0 else None, axis=1\n",
    ")\n",
    "df['Cost-to-Sales Ratio (%)'] = (df['COGS'] / df['Sales']) * 100\n",
    "output_filename = \"create_three_metrics.csv\"\n",
    "df.to_csv(output_filename, index=False)"
   ]
  },
  {
   "cell_type": "markdown",
   "id": "1dfecdc6",
   "metadata": {},
   "source": [
    "יצירת טבלאות מסכמות בעזרת פיווטים "
   ]
  },
  {
   "cell_type": "markdown",
   "id": "4fafa438",
   "metadata": {},
   "source": [
    "טבלת מוצר (Product):\n"
   ]
  },
  {
   "cell_type": "code",
   "execution_count": 383,
   "id": "bb8b85a9",
   "metadata": {},
   "outputs": [],
   "source": [
    "\n",
    "# Pivot Table for Product\n",
    "product_table = pd.pivot_table(\n",
    "    df,\n",
    "    values=[\"Profit Margin\", \"Discount Impact\", \"Profit\", \"Sales\"],\n",
    "    index=\"Product\",\n",
    "    aggfunc={\n",
    "        \"Profit Margin\": \"mean\",\n",
    "        \"Discount Impact\": \"mean\",\n",
    "        \"Profit\": \"sum\",\n",
    "        \"Sales\": \"sum\"\n",
    "    }\n",
    ").rename(columns={\n",
    "    \"Profit Margin\": \"Avg_Profit_Margin\",\n",
    "    \"Discount Impact\": \"Avg_Discount_Impact\",\n",
    "    \"Profit\": \"Total_Profit\",\n",
    "    \"Sales\": \"Total_Sales\"\n",
    "})\n",
    "product_table[\"Total_Transactions\"] = df.groupby(\"Product\")[\"Units Sold\"].count()\n",
    "output_filename = \"product_table_using_pivot.csv\"\n",
    "product_table.to_csv(output_filename, index=False)"
   ]
  },
  {
   "cell_type": "markdown",
   "id": "d37c290b",
   "metadata": {},
   "source": [
    "טבלת סגמנט (Segment):"
   ]
  },
  {
   "cell_type": "code",
   "execution_count": 384,
   "id": "d4692090",
   "metadata": {},
   "outputs": [],
   "source": [
    "# Pivot Table for Segment\n",
    "segment_table = pd.pivot_table(\n",
    "    df,\n",
    "    values=[\"Profit Margin\", \"Discount Impact\", \"Profit\", \"Sales\"],\n",
    "    index=\"Segment\",\n",
    "    aggfunc={\n",
    "        \"Profit Margin\": \"mean\",\n",
    "        \"Discount Impact\": \"mean\",\n",
    "        \"Profit\": \"sum\",\n",
    "        \"Sales\": \"sum\"\n",
    "    }\n",
    ").rename(columns={\n",
    "    \"Profit Margin\": \"Avg_Profit_Margin\",\n",
    "    \"Discount Impact\": \"Avg_Discount_Impact\",\n",
    "    \"Profit\": \"Total_Profit\",\n",
    "    \"Sales\": \"Total_Sales\"\n",
    "})\n",
    "segment_table[\"Total_Transactions\"] = df.groupby(\"Segment\")[\"Units Sold\"].count()\n",
    "output_filename = \"segment_table_using_pivot.csv\"\n",
    "segment_table.to_csv(output_filename, index=False)"
   ]
  },
  {
   "cell_type": "markdown",
   "id": "d6a6883a",
   "metadata": {},
   "source": [
    "טבלת אזור גיאוגרפי (Country):\n"
   ]
  },
  {
   "cell_type": "code",
   "execution_count": 385,
   "id": "6616dc49",
   "metadata": {},
   "outputs": [],
   "source": [
    "# Pivot Table for Country\n",
    "country_table = pd.pivot_table(\n",
    "    df,\n",
    "    values=[\"Profit Margin\", \"Discount Impact\", \"Profit\", \"Sales\"],\n",
    "    index=\"Country\",\n",
    "    aggfunc={\n",
    "        \"Profit Margin\": \"mean\",\n",
    "        \"Discount Impact\": \"mean\",\n",
    "        \"Profit\": \"sum\",\n",
    "        \"Sales\": \"sum\",\n",
    "    }\n",
    ").rename(columns={\n",
    "    \"Profit Margin\": \"Avg_Profit_Margin\",\n",
    "    \"Discount Impact\": \"Avg_Discount_Impact\",\n",
    "    \"Profit\": \"Total_Profit\",\n",
    "    \"Sales\": \"Total_Sales\"\n",
    "})\n",
    "country_table[\"Total_Transactions\"] = df.groupby(\"Country\")[\"Units Sold\"].count()\n",
    "country_table = country_table.reset_index()\n",
    "\n",
    "output_filename = \"country_table_using_pivot.csv\"\n",
    "country_table.to_csv(output_filename, index=False)"
   ]
  },
  {
   "cell_type": "markdown",
   "id": "a48dc60e",
   "metadata": {},
   "source": [
    "זיהוי מגמות לאורך זמן \n"
   ]
  },
  {
   "cell_type": "markdown",
   "id": "a0244c9a",
   "metadata": {},
   "source": [
    "ניתוח מגמות לפי חודשים (Monthly Trends):"
   ]
  },
  {
   "cell_type": "code",
   "execution_count": 386,
   "id": "11615917",
   "metadata": {},
   "outputs": [],
   "source": [
    "# Monthly Trends Analysis\n",
    "monthly_trends = df.groupby('Month Number').agg(\n",
    "    Total_Sales=('Sales', 'sum'),\n",
    "    Total_Profit=('Profit', 'sum'),\n",
    "    Avg_Discount_Impact=('Discount Impact', 'mean'),\n",
    "    Avg_Profit_Margin=('Profit Margin', 'mean')\n",
    ").reset_index()\n",
    "output_filename = \"monthly_trends.csv\"\n",
    "monthly_trends.to_csv(output_filename, index=False)"
   ]
  },
  {
   "cell_type": "markdown",
   "id": "fb77c103",
   "metadata": {},
   "source": [
    "ניתוח מגמות לפי שנים (Yearly Trends):\n"
   ]
  },
  {
   "cell_type": "code",
   "execution_count": 387,
   "id": "f539af33",
   "metadata": {},
   "outputs": [],
   "source": [
    "# Annual Trends Analysis\n",
    "annual_trends = df.groupby('Year').agg(\n",
    "    Total_Sales=('Sales', 'sum'),\n",
    "    Total_Profit=('Profit', 'sum'),\n",
    "    Avg_Discount_Impact=('Discount Impact', 'mean'),\n",
    "    Avg_Profit_Margin=('Profit Margin', 'mean')\n",
    ").reset_index()\n",
    "output_filename = \"annual_trends.csv\"\n",
    "annual_trends.to_csv(output_filename, index=False)"
   ]
  },
  {
   "cell_type": "markdown",
   "id": "405da0f1",
   "metadata": {},
   "source": [
    "ניתוח של מגמות רבעוניות ,הסבר נמצא בקובץ 8 והקוד למטה מייצר את הטבלה "
   ]
  },
  {
   "cell_type": "code",
   "execution_count": 388,
   "id": "b1fbcea1",
   "metadata": {},
   "outputs": [],
   "source": [
    "\n",
    "# Create a Quarter column\n",
    "df['Quarter'] = pd.to_datetime(df['Date']).dt.quarter\n",
    "\n",
    "# Group by Quarter and Product to calculate quarterly trends\n",
    "quarterly_trends = df.groupby(['Quarter', 'Product']).agg(\n",
    "    Total_Sales=('Sales', 'sum'),\n",
    "    Avg_Profit_Margin=('Profit Margin', 'mean'),\n",
    "    Total_Discounts=('Discounts', 'sum'),\n",
    "    Total_Profit=('Profit', 'sum')\n",
    ").reset_index()\n",
    "\n",
    "# Rename columns for clarity\n",
    "quarterly_trends = quarterly_trends.rename(columns={\n",
    "    'Total_Sales': 'Total_Quarterly_Sales',\n",
    "    'Avg_Profit_Margin': 'Avg_Quarterly_Profit_Margin',\n",
    "    'Total_Discounts': 'Total_Quarterly_Discounts',\n",
    "    'Total_Profit': 'Total_Quarterly_Profit'\n",
    "})\n",
    "\n",
    "output_filename = \"quarterly_trends.csv\"\n",
    "quarterly_trends.to_csv(output_filename, index=False)"
   ]
  },
  {
   "cell_type": "markdown",
   "id": "fe5c8dbf",
   "metadata": {},
   "source": [
    "יצירת פילטרים מותאמים לניתוח ממוקד ויזהוי בעיות עסקיות\n"
   ]
  },
  {
   "cell_type": "markdown",
   "id": "39801824",
   "metadata": {},
   "source": [
    "זיהוי מוצרים בעייתיים\n"
   ]
  },
  {
   "cell_type": "code",
   "execution_count": 389,
   "id": "592fe5ed",
   "metadata": {},
   "outputs": [],
   "source": [
    "# Calculate overall averages for reference\n",
    "avg_discount_impact = df[\"Discount Impact\"].mean()\n",
    "avg_profit_margin = df[\"Profit Margin\"].mean()\n",
    "\n",
    "# Filter problematic products\n",
    "problematic_products = df[\n",
    "    (df[\"Discount Impact\"] > avg_discount_impact) &  # Higher than average discount impact\n",
    "    (df[\"Profit Margin\"] < avg_profit_margin)        # Lower than average profit margin\n",
    "]\n",
    "\n",
    "# Aggregate results at the product level\n",
    "problematic_products_summary = problematic_products.groupby(\"Product\").agg(\n",
    "    Avg_Discount_Impact=(\"Discount Impact\", \"mean\"),\n",
    "    Avg_Profit_Margin=(\"Profit Margin\", \"mean\"),\n",
    "    Total_Sales=(\"Sales\", \"sum\"),\n",
    "    Total_Profit=(\"Profit\", \"sum\")\n",
    ").reset_index()\n",
    "\n",
    "# Sort by highest discount impact\n",
    "problematic_products_summary = problematic_products_summary.sort_values(\n",
    "    by=\"Avg_Discount_Impact\", ascending=False\n",
    ")\n",
    "\n",
    "output_filename = \"problematic_products_summary.csv\"\n",
    "problematic_products_summary.to_csv(output_filename, index=False)\n"
   ]
  },
  {
   "cell_type": "markdown",
   "id": "a1ce7d18",
   "metadata": {},
   "source": [
    "בניית טבלה שתעזור לי למצוא מוצרים המציגים ביצועים חלשים "
   ]
  },
  {
   "cell_type": "code",
   "execution_count": 390,
   "id": "b6e23275",
   "metadata": {},
   "outputs": [
    {
     "name": "stdout",
     "output_type": "stream",
     "text": [
      "Empty DataFrame\n",
      "Columns: [Product, Segment, Sales, Profit, Discount Impact, Profit Margin]\n",
      "Index: []\n"
     ]
    }
   ],
   "source": [
    "# Define thresholds for filtering\n",
    "profit_margin_threshold = 7  # Bottom quartile (low profitability)\n",
    "discount_impact_threshold = 8.5  # Top quartile (high discount impact)\n",
    "\n",
    "# Filter for underperforming products\n",
    "underperforming_products = df[\n",
    "    (df[\"Profit Margin\"] < profit_margin_threshold) &  # Low profitability\n",
    "    (df[\"Discount Impact\"] > discount_impact_threshold)  # High discount impact\n",
    "]\n",
    "\n",
    "# Aggregate data at the product level\n",
    "underperforming_products_summary = underperforming_products.groupby([\"Product\", \"Segment\"]).agg(\n",
    "    Total_Sales=(\"Sales\", \"sum\"),\n",
    "    Total_Profit=(\"Profit\", \"sum\"),\n",
    "    Avg_Discount_Impact=(\"Discount Impact\", \"mean\"),\n",
    "    Avg_Profit_Margin=(\"Profit Margin\", \"mean\")\n",
    ").reset_index()\n",
    "\n",
    "# Sort by Profit Margin (ascending order)\n",
    "underperforming_products_summary = underperforming_products_summary.sort_values(\n",
    "    by=\"Avg_Profit_Margin\", ascending=True\n",
    ")\n",
    "\n",
    "# Rename columns for clarity\n",
    "underperforming_products_summary.rename(columns={\n",
    "    \"Total_Sales\": \"Sales\",\n",
    "    \"Total_Profit\": \"Profit\",\n",
    "    \"Avg_Discount_Impact\": \"Discount Impact\",\n",
    "    \"Avg_Profit_Margin\": \"Profit Margin\"\n",
    "}, inplace=True)\n",
    "\n",
    "# Display the final summary table\n",
    "print(underperforming_products_summary)\n"
   ]
  }
 ],
 "metadata": {
  "jupytext": {
   "cell_metadata_filter": "-all",
   "main_language": "python",
   "notebook_metadata_filter": "-all"
  },
  "kernelspec": {
   "display_name": "Python 3",
   "language": "python",
   "name": "python3"
  },
  "language_info": {
   "codemirror_mode": {
    "name": "ipython",
    "version": 3
   },
   "file_extension": ".py",
   "mimetype": "text/x-python",
   "name": "python",
   "nbconvert_exporter": "python",
   "pygments_lexer": "ipython3",
   "version": "3.9.6"
  }
 },
 "nbformat": 4,
 "nbformat_minor": 5
}
